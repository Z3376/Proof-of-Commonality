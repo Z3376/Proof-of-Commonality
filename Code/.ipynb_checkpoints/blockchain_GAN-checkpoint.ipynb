{
 "cells": [
  {
   "cell_type": "code",
   "execution_count": 0,
   "metadata": {
    "colab": {},
    "colab_type": "code",
    "id": "8Eekl_4nxDI4"
   },
   "outputs": [],
   "source": [
    "\"\"\"\n",
    "Consensus using AI:\n",
    "Extracting deep node features using unsupervised training\n",
    "\"\"\""
   ]
  },
  {
   "cell_type": "markdown",
   "metadata": {
    "colab_type": "text",
    "id": "1vokYWDlk3Ng"
   },
   "source": [
    "# Terminal"
   ]
  },
  {
   "cell_type": "code",
   "execution_count": null,
   "metadata": {},
   "outputs": [],
   "source": [
    "\"\"\"\n",
    "Run these commands on terminal to generate txedges.dat\n",
    "\"\"\""
   ]
  },
  {
   "cell_type": "code",
   "execution_count": 0,
   "metadata": {
    "colab": {
     "base_uri": "https://localhost:8080/",
     "height": 204
    },
    "colab_type": "code",
    "id": "5YmpYxB7xhEz",
    "outputId": "1e6fb517-8c52-46f9-cda5-9ed027c412d5"
   },
   "outputs": [
    {
     "name": "stdout",
     "output_type": "stream",
     "text": [
      "--2019-08-22 18:35:43--  https://senseable2015-6.mit.edu/bitcoin/txin.dat.xz\n",
      "Resolving senseable2015-6.mit.edu (senseable2015-6.mit.edu)... 18.7.25.22\n",
      "Connecting to senseable2015-6.mit.edu (senseable2015-6.mit.edu)|18.7.25.22|:443... connected.\n",
      "HTTP request sent, awaiting response... 200 OK\n",
      "Length: 7546653316 (7.0G) [application/x-ns-proxy-autoconfig]\n",
      "Saving to: ‘txin.dat.xz’\n",
      "\n",
      "txin.dat.xz         100%[===================>]   7.03G  76.6MB/s    in 86s     \n",
      "\n",
      "2019-08-22 18:37:14 (83.9 MB/s) - ‘txin.dat.xz’ saved [7546653316/7546653316]\n",
      "\n"
     ]
    }
   ],
   "source": [
    "%%bash\n",
    "\n",
    "# !wget \"https://senseable2015-6.mit.edu/bitcoin/txin.dat.xz\"\n",
    "# !wget \"https://senseable2015-6.mit.edu/bitcoin/txout.dat.xz\"\n",
    "\n",
    "# !git clone https://github.com/dkondor/txedges.git\n",
    "\n",
    "# !g++ -o txedge txedge.cpp -std=gnu++14 -O3 -march=native\n",
    "\n",
    "# !./txedge -ix txin.dat.xz -ox txout.dat.xz > txedges.dat"
   ]
  },
  {
   "cell_type": "markdown",
   "metadata": {
    "colab_type": "text",
    "id": "7ZuEpMO4lIcX"
   },
   "source": [
    "# Imports"
   ]
  },
  {
   "cell_type": "code",
   "execution_count": 1,
   "metadata": {
    "colab": {
     "base_uri": "https://localhost:8080/",
     "height": 122
    },
    "colab_type": "code",
    "id": "z42dkMBszQYe",
    "outputId": "e2d884b5-30c7-4871-d4c3-9d5a672636ab"
   },
   "outputs": [
    {
     "name": "stdout",
     "output_type": "stream",
     "text": [
      "Go to this URL in a browser: https://accounts.google.com/o/oauth2/auth?client_id=947318989803-6bn6qk8qdgf4n4g3pfee6491hc0brc4i.apps.googleusercontent.com&redirect_uri=urn%3Aietf%3Awg%3Aoauth%3A2.0%3Aoob&scope=email%20https%3A%2F%2Fwww.googleapis.com%2Fauth%2Fdocs.test%20https%3A%2F%2Fwww.googleapis.com%2Fauth%2Fdrive%20https%3A%2F%2Fwww.googleapis.com%2Fauth%2Fdrive.photos.readonly%20https%3A%2F%2Fwww.googleapis.com%2Fauth%2Fpeopleapi.readonly&response_type=code\n",
      "\n",
      "Enter your authorization code:\n",
      "··········\n",
      "Mounted at ./gdrive\n"
     ]
    }
   ],
   "source": [
    "# from google.colab import drive\n",
    "# drive.mount('./gdrive')"
   ]
  },
  {
   "cell_type": "code",
   "execution_count": 2,
   "metadata": {
    "colab": {
     "base_uri": "https://localhost:8080/",
     "height": 34
    },
    "colab_type": "code",
    "id": "y3y0qJYgO0LD",
    "outputId": "917ab594-c11e-4201-a99f-8f0dc0e12ae6"
   },
   "outputs": [
    {
     "name": "stderr",
     "output_type": "stream",
     "text": [
      "Using TensorFlow backend.\n"
     ]
    }
   ],
   "source": [
    "# from google.colab import files\n",
    "import pandas as pd\n",
    "import numpy as np\n",
    "from tqdm import tqdm\n",
    "from sklearn.preprocessing import StandardScaler,MinMaxScaler\n",
    "import keras\n",
    "import matplotlib.pyplot as plt\n",
    "from IPython import display"
   ]
  },
  {
   "cell_type": "markdown",
   "metadata": {
    "colab_type": "text",
    "id": "MThBxDucpJIO"
   },
   "source": [
    "# Data"
   ]
  },
  {
   "cell_type": "code",
   "execution_count": null,
   "metadata": {},
   "outputs": [],
   "source": [
    "\"\"\"\n",
    "path_to_txedges:Provide path to the txedges.dat file, \n",
    "                created using txin.dat and txout.dat and https://github.com/dkondor/txedges\n",
    "                Refer Scrap part above\n",
    "\"\"\"\n",
    "path_to_txedges = './gdrive/My Drive/txedges.dat'"
   ]
  },
  {
   "cell_type": "code",
   "execution_count": 0,
   "metadata": {
    "colab": {},
    "colab_type": "code",
    "id": "ddjVdm9QlPLA"
   },
   "outputs": [],
   "source": [
    "\"\"\"\n",
    "ln: Number of transactions to consider\n",
    "strt: Transaction number to start from\n",
    "\"\"\"\n",
    "ln = 10000\n",
    "strt = 300000"
   ]
  },
  {
   "cell_type": "code",
   "execution_count": 0,
   "metadata": {
    "colab": {},
    "colab_type": "code",
    "id": "CHjsj8LPcj86"
   },
   "outputs": [],
   "source": [
    "graph = pd.read_csv(path_to_txedges,delimiter='\\t',skiprows=strt,nrows=ln,header=None)"
   ]
  },
  {
   "cell_type": "code",
   "execution_count": 0,
   "metadata": {
    "colab": {},
    "colab_type": "code",
    "id": "FUCWeqLfkwAd"
   },
   "outputs": [],
   "source": [
    "\"\"\"\n",
    "in_add: Receiver address of transaction\n",
    "out_add: Sender address of transaction\n",
    "tr_amt: Transaction amount in Satoshis (1e-8 BTC)\n",
    "\"\"\"\n",
    "in_add = graph.iloc[:,1].values\n",
    "out_add = graph.iloc[:,2].values\n",
    "tr_amt = graph.iloc[:,3].values"
   ]
  },
  {
   "cell_type": "code",
   "execution_count": 0,
   "metadata": {
    "colab": {},
    "colab_type": "code",
    "id": "SCEzNg2mn3yn"
   },
   "outputs": [],
   "source": [
    "\"\"\"\n",
    "Normalisation of transaction amount for better training\n",
    "\"\"\"\n",
    "mmsc = MinMaxScaler()\n",
    "sc_tr_amt = mmsc.fit_transform(np.log(tr_amt).reshape(-1,1))"
   ]
  },
  {
   "cell_type": "code",
   "execution_count": 8,
   "metadata": {
    "colab": {
     "base_uri": "https://localhost:8080/",
     "height": 34
    },
    "colab_type": "code",
    "id": "otPwU3m2kTrX",
    "outputId": "9b221101-0fa1-4513-95d3-7fa09a94bc1a"
   },
   "outputs": [
    {
     "name": "stderr",
     "output_type": "stream",
     "text": [
      "100%|██████████| 10000/10000 [00:00<00:00, 278604.29it/s]\n"
     ]
    }
   ],
   "source": [
    "\"\"\"\n",
    "add_dic: Address dictionary. Contains each address, with the info on transactions they participated in.\n",
    "\"\"\"\n",
    "add_dic = {}\n",
    "for i in tqdm(range(ln)):\n",
    "    if in_add[i] not in add_dic:\n",
    "        add_dic[in_add[i]] = []\n",
    "    if out_add[i] not in add_dic:\n",
    "        add_dic[out_add[i]] = []\n",
    "    add_dic[in_add[i]].append([sc_tr_amt[i],i])\n",
    "    add_dic[out_add[i]].append([-1*sc_tr_amt[i],i])"
   ]
  },
  {
   "cell_type": "code",
   "execution_count": 0,
   "metadata": {
    "colab": {},
    "colab_type": "code",
    "id": "wxSjM8CguCXd"
   },
   "outputs": [],
   "source": [
    "\"\"\"\n",
    "num_add: Total number of addresses\n",
    "\"\"\"\n",
    "num_add = len(add_dic)"
   ]
  },
  {
   "cell_type": "code",
   "execution_count": 11,
   "metadata": {
    "colab": {
     "base_uri": "https://localhost:8080/",
     "height": 34
    },
    "colab_type": "code",
    "id": "NZb9whKqtkGB",
    "outputId": "755b2da7-7a98-453a-d515-b8df9fca3916"
   },
   "outputs": [
    {
     "name": "stderr",
     "output_type": "stream",
     "text": [
      "100%|██████████| 6499/6499 [00:00<00:00, 294558.97it/s]\n"
     ]
    }
   ],
   "source": [
    "\"\"\"\n",
    "inpt_arr: Input array serves as the real data to the GAN. It contains transaction history of each address.\n",
    "\"\"\"\n",
    "inpt_arr = np.zeros((num_add,ln))\n",
    "ctr = 0\n",
    "for key,val in tqdm(add_dic.items()):\n",
    "    for i in range(len(val)):\n",
    "        inpt_arr[ctr][val[i][1]] = val[i][0]\n",
    "    ctr+=1"
   ]
  },
  {
   "cell_type": "code",
   "execution_count": 0,
   "metadata": {
    "colab": {},
    "colab_type": "code",
    "id": "rgwTZKnTxovV"
   },
   "outputs": [],
   "source": [
    "inpt_arr = np.expand_dims(inpt_arr,-1)"
   ]
  },
  {
   "cell_type": "code",
   "execution_count": 0,
   "metadata": {
    "colab": {},
    "colab_type": "code",
    "id": "j3iy0yFaU6is"
   },
   "outputs": [],
   "source": [
    "\"\"\"\n",
    "datagen function creates batches for training the Discriminator\n",
    "\"\"\"\n",
    "def datagen(inpt_arr,gen_arr,size,check_flag,name=None):\n",
    "    inp = inpt_arr[np.random.randint(low=0,high=num_add,size=size)]\n",
    "    inp = np.concatenate([inp,gen_arr])\n",
    "    if(check_flag):\n",
    "        check(inp,name)\n",
    "    out = [1 if i<size else 0 for i in range(2*size)]\n",
    "    return(inp,out)"
   ]
  },
  {
   "cell_type": "code",
   "execution_count": 0,
   "metadata": {
    "colab": {},
    "colab_type": "code",
    "id": "f14tE8q3vMeD"
   },
   "outputs": [],
   "source": [
    "\"\"\"\n",
    "It checks the difference between real and generated data, hence it's important for monitoring the training.\n",
    "\"\"\"\n",
    "def check(gen_arr,name=None):\n",
    "    check_balance(gen_arr,name)\n",
    "    check_variance(gen_arr,name)\n",
    "    return None"
   ]
  },
  {
   "cell_type": "code",
   "execution_count": 0,
   "metadata": {
    "colab": {},
    "colab_type": "code",
    "id": "SERNx4CvSW6_"
   },
   "outputs": [],
   "source": [
    "def check_balance(gen_arr,name=None):\n",
    "    sm = []\n",
    "    for i in range(len(gen_arr)):\n",
    "        sm.append(np.sum(gen_arr[i]))\n",
    "    fig = plt.figure()\n",
    "    plt.title('Bal')\n",
    "    plt.plot(sm)\n",
    "    if(name!=None):\n",
    "        fig.savefig(name+'_bal.png')\n",
    "#         files.download(name+'_bal.png')\n",
    "    plt.show()"
   ]
  },
  {
   "cell_type": "code",
   "execution_count": 0,
   "metadata": {
    "colab": {},
    "colab_type": "code",
    "id": "JT7thxMlmdao"
   },
   "outputs": [],
   "source": [
    "def check_variance(gen_arr,name=None):\n",
    "    sm = []\n",
    "    for i in range(len(gen_arr)):\n",
    "        sm.append(np.std(gen_arr[i])**2)\n",
    "    fig = plt.figure()\n",
    "    plt.title('Var')\n",
    "    plt.plot(sm)\n",
    "    if(name!=None):\n",
    "        fig.savefig(name+'_var.png')\n",
    "#         files.download(name+'_var.png')\n",
    "    plt.show()"
   ]
  },
  {
   "cell_type": "markdown",
   "metadata": {
    "colab_type": "text",
    "id": "HfMO6hK6MhZu"
   },
   "source": [
    "# GAN"
   ]
  },
  {
   "cell_type": "code",
   "execution_count": 0,
   "metadata": {
    "colab": {},
    "colab_type": "code",
    "id": "-R571q-zbQEQ"
   },
   "outputs": [],
   "source": [
    "# keras.backend.clear_session()"
   ]
  },
  {
   "cell_type": "markdown",
   "metadata": {
    "colab_type": "text",
    "id": "s4L9bJ2WPfaP"
   },
   "source": [
    "## Discriminator"
   ]
  },
  {
   "cell_type": "code",
   "execution_count": 0,
   "metadata": {
    "colab": {},
    "colab_type": "code",
    "id": "Ai_o8Qyy55wl"
   },
   "outputs": [],
   "source": [
    "disc_inpt = keras.layers.Input((ln,1))\n",
    "disc_lstm = keras.layers.CuDNNLSTM(32)\n",
    "lstm_out = disc_lstm(disc_inpt)\n",
    "disc_dense = keras.layers.Dense(1,activation='sigmoid')\n",
    "disc_out = disc_dense(lstm_out)\n",
    "discriminator = keras.models.Model(disc_inpt,disc_out)"
   ]
  },
  {
   "cell_type": "code",
   "execution_count": 152,
   "metadata": {
    "colab": {
     "base_uri": "https://localhost:8080/",
     "height": 238
    },
    "colab_type": "code",
    "id": "1jMgN2D_R9Pa",
    "outputId": "077ff4b7-d151-4c96-f6ed-7f1db3f3c1d5"
   },
   "outputs": [
    {
     "name": "stdout",
     "output_type": "stream",
     "text": [
      "_________________________________________________________________\n",
      "Layer (type)                 Output Shape              Param #   \n",
      "=================================================================\n",
      "input_1 (InputLayer)         (None, 10000, 1)          0         \n",
      "_________________________________________________________________\n",
      "cu_dnnlstm_1 (CuDNNLSTM)     (None, 32)                4480      \n",
      "_________________________________________________________________\n",
      "dense_1 (Dense)              (None, 1)                 33        \n",
      "=================================================================\n",
      "Total params: 4,513\n",
      "Trainable params: 4,513\n",
      "Non-trainable params: 0\n",
      "_________________________________________________________________\n"
     ]
    }
   ],
   "source": [
    "discriminator.summary()"
   ]
  },
  {
   "cell_type": "markdown",
   "metadata": {
    "colab_type": "text",
    "id": "LSgclFxSPhf4"
   },
   "source": [
    "## Generator"
   ]
  },
  {
   "cell_type": "code",
   "execution_count": 0,
   "metadata": {
    "colab": {},
    "colab_type": "code",
    "id": "Z7qL538WOw8X"
   },
   "outputs": [],
   "source": [
    "gen_inpt = keras.layers.Input((ln,1))\n",
    "gen_lstm = keras.layers.CuDNNLSTM(32,return_sequences=True)\n",
    "gen_lstm_out = gen_lstm(gen_inpt)\n",
    "gen_dense = keras.layers.Dense(1,activation='tanh')\n",
    "gen_out = gen_dense(gen_lstm_out)\n",
    "generator = keras.models.Model(gen_inpt,gen_out)\n",
    "main_lstm_out = disc_lstm(gen_out)\n",
    "main_out = disc_dense(main_lstm_out)\n",
    "main_model = keras.models.Model(gen_inpt,main_out)"
   ]
  },
  {
   "cell_type": "code",
   "execution_count": 155,
   "metadata": {
    "colab": {
     "base_uri": "https://localhost:8080/",
     "height": 306
    },
    "colab_type": "code",
    "id": "nbOXo1q-Qa33",
    "outputId": "1f162a72-e68c-45ac-e2f0-e2cdaedcf819"
   },
   "outputs": [
    {
     "name": "stdout",
     "output_type": "stream",
     "text": [
      "_________________________________________________________________\n",
      "Layer (type)                 Output Shape              Param #   \n",
      "=================================================================\n",
      "input_2 (InputLayer)         (None, 10000, 1)          0         \n",
      "_________________________________________________________________\n",
      "cu_dnnlstm_2 (CuDNNLSTM)     (None, 10000, 32)         4480      \n",
      "_________________________________________________________________\n",
      "dense_2 (Dense)              (None, 10000, 1)          33        \n",
      "_________________________________________________________________\n",
      "cu_dnnlstm_1 (CuDNNLSTM)     (None, 32)                4480      \n",
      "_________________________________________________________________\n",
      "dense_1 (Dense)              (None, 1)                 33        \n",
      "=================================================================\n",
      "Total params: 9,026\n",
      "Trainable params: 9,026\n",
      "Non-trainable params: 0\n",
      "_________________________________________________________________\n"
     ]
    }
   ],
   "source": [
    "main_model.summary()"
   ]
  },
  {
   "cell_type": "code",
   "execution_count": 156,
   "metadata": {
    "colab": {
     "base_uri": "https://localhost:8080/",
     "height": 238
    },
    "colab_type": "code",
    "id": "AKJSavDEXYjt",
    "outputId": "4ff4e3df-f3b9-45dc-9a9e-b657e6cf05fa"
   },
   "outputs": [
    {
     "name": "stdout",
     "output_type": "stream",
     "text": [
      "_________________________________________________________________\n",
      "Layer (type)                 Output Shape              Param #   \n",
      "=================================================================\n",
      "input_2 (InputLayer)         (None, 10000, 1)          0         \n",
      "_________________________________________________________________\n",
      "cu_dnnlstm_2 (CuDNNLSTM)     (None, 10000, 32)         4480      \n",
      "_________________________________________________________________\n",
      "dense_2 (Dense)              (None, 10000, 1)          33        \n",
      "=================================================================\n",
      "Total params: 4,513\n",
      "Trainable params: 4,513\n",
      "Non-trainable params: 0\n",
      "_________________________________________________________________\n"
     ]
    }
   ],
   "source": [
    "generator.summary()"
   ]
  },
  {
   "cell_type": "markdown",
   "metadata": {
    "colab_type": "text",
    "id": "kgilUNuvb-S-"
   },
   "source": [
    "## Training"
   ]
  },
  {
   "cell_type": "markdown",
   "metadata": {
    "colab_type": "text",
    "id": "8b_Y3bVsmvuU"
   },
   "source": [
    "### param"
   ]
  },
  {
   "cell_type": "code",
   "execution_count": 0,
   "metadata": {
    "colab": {},
    "colab_type": "code",
    "id": "AoB4oCmAi4-K"
   },
   "outputs": [],
   "source": [
    "adam = keras.optimizers.Adam(lr=1e-5)"
   ]
  },
  {
   "cell_type": "code",
   "execution_count": 0,
   "metadata": {
    "colab": {},
    "colab_type": "code",
    "id": "b21KTDVHlxvY"
   },
   "outputs": [],
   "source": [
    "adam_fast = keras.optimizers.Adam(lr=1e-2)"
   ]
  },
  {
   "cell_type": "code",
   "execution_count": 0,
   "metadata": {
    "colab": {},
    "colab_type": "code",
    "id": "hzeF7vbgXAAS"
   },
   "outputs": [],
   "source": [
    "disc_pretrain = True\n",
    "disc_cycles = 10\n",
    "cycles = 150\n",
    "batch_size = 128"
   ]
  },
  {
   "cell_type": "code",
   "execution_count": 0,
   "metadata": {
    "colab": {},
    "colab_type": "code",
    "id": "9j7lnVyO4rb9"
   },
   "outputs": [],
   "source": [
    "def w_loss(y_true,y_pred):\n",
    "    return keras.backend.mean(y_true*y_pred)"
   ]
  },
  {
   "cell_type": "code",
   "execution_count": 0,
   "metadata": {
    "colab": {},
    "colab_type": "code",
    "id": "4ljcTm7vbrMr"
   },
   "outputs": [],
   "source": [
    "# discriminator.load_weights('disc.h5')\n",
    "# main_model.load_weights('main_model.h5')"
   ]
  },
  {
   "cell_type": "code",
   "execution_count": 0,
   "metadata": {
    "colab": {},
    "colab_type": "code",
    "id": "fK_7nDFPoEy-"
   },
   "outputs": [],
   "source": [
    "\"\"\"\n",
    "To monitor GAN training\n",
    "\"\"\"\n",
    "disc_loss = []\n",
    "disc_acc = []\n",
    "gan_loss = []\n",
    "gan_acc = []"
   ]
  },
  {
   "cell_type": "markdown",
   "metadata": {
    "colab_type": "text",
    "id": "OXDVky48mhyL"
   },
   "source": [
    "### Discriminator pretrain"
   ]
  },
  {
   "cell_type": "code",
   "execution_count": 0,
   "metadata": {
    "colab": {},
    "colab_type": "code",
    "id": "wa3wPk-XA6QQ"
   },
   "outputs": [],
   "source": [
    "\"\"\"\n",
    "To monitor D pretraining\n",
    "\"\"\"\n",
    "disc_solo_loss = []\n",
    "disc_solo_acc = []"
   ]
  },
  {
   "cell_type": "code",
   "execution_count": 0,
   "metadata": {
    "colab": {},
    "colab_type": "code",
    "id": "FWvGP41l-kuv"
   },
   "outputs": [],
   "source": [
    "if(disc_pretrain):\n",
    "    main_model.layers[-2].trainable = True\n",
    "    main_model.layers[-1].trainable = True\n",
    "    discriminator.compile(optimizer='adam',loss='binary_crossentropy',metrics=['acc'])\n",
    "    for i in range(disc_cycles):\n",
    "        noise = np.random.normal(0,1,[batch_size,ln,1])\n",
    "        gen_arr = generator.predict(noise)\n",
    "        dis_x,dis_y = datagen(inpt_arr,gen_arr,batch_size,False)\n",
    "        print('Training Discriminator: ',i)\n",
    "        discriminator.train_on_batch(dis_x,dis_y)\n",
    "        evalt = discriminator.evaluate(dis_x,dis_y,batch_size=batch_size)\n",
    "        print(evalt)\n",
    "        disc_solo_loss.append(evalt[0])\n",
    "        disc_solo_acc.append(evalt[1])"
   ]
  },
  {
   "cell_type": "code",
   "execution_count": 0,
   "metadata": {
    "colab": {},
    "colab_type": "code",
    "id": "GNys6IwPBUl9"
   },
   "outputs": [],
   "source": [
    "if(disc_pretrain):\n",
    "    plt.figure()\n",
    "    plt.plot(disc_solo_loss)\n",
    "    plt.legend(['loss'])\n",
    "    plt.figure()\n",
    "    plt.plot(disc_solo_acc)\n",
    "    plt.legend(['acc'])\n",
    "    plt.show()"
   ]
  },
  {
   "cell_type": "markdown",
   "metadata": {
    "colab_type": "text",
    "id": "7-WRfcirmoeW"
   },
   "source": [
    "### GAN training"
   ]
  },
  {
   "cell_type": "code",
   "execution_count": null,
   "metadata": {
    "colab": {
     "base_uri": "https://localhost:8080/",
     "height": 1000
    },
    "colab_type": "code",
    "id": "VGZ7HLAvW6qd",
    "outputId": "4eca5472-a309-46f4-f48c-0440f5400401"
   },
   "outputs": [],
   "source": [
    "for i in range(cycles):\n",
    "    noise = np.random.normal(0,1,[batch_size,ln,1])\n",
    "    gen_arr = generator.predict(noise)\n",
    "    main_model.layers[-2].trainable = True\n",
    "    main_model.layers[-1].trainable = True\n",
    "    check_flag = False\n",
    "    name = None\n",
    "    if((i+1)%10==0):\n",
    "        main_model.save_weights('main_model.h5')\n",
    "        discriminator.save_weights('disc.h5')\n",
    "        check_flag = True\n",
    "        name = str(i)\n",
    "        display.clear_output()\n",
    "    dis_x,dis_y = datagen(inpt_arr,gen_arr,batch_size,check_flag,name)\n",
    "    print('Training Discriminator: ',i)\n",
    "    discriminator.compile(optimizer=adam,loss='binary_crossentropy',metrics=['acc'])\n",
    "    discriminator.train_on_batch(dis_x,dis_y)\n",
    "    evalt = discriminator.evaluate(dis_x,dis_y,batch_size=batch_size*2)\n",
    "    print(evalt)\n",
    "    disc_loss.append(evalt[0])\n",
    "    disc_acc.append(evalt[1])\n",
    "    plt.figure()\n",
    "    plt.plot(disc_loss)\n",
    "    plt.figure()\n",
    "    plt.plot(disc_acc)\n",
    "    main_model.layers[-2].trainable = False\n",
    "    main_model.layers[-1].trainable = False\n",
    "    noise = np.random.normal(0,1,[2*batch_size,ln,1])\n",
    "    gen_y = np.ones((2*batch_size,1))\n",
    "    print('Training GAN: ',i)\n",
    "    main_model.compile(optimizer=adam,loss=w_loss,metrics=['acc'])\n",
    "    main_model.train_on_batch(noise,gen_y)\n",
    "    main_model.save_weights('main_model.h5')\n",
    "    evalt = main_model.evaluate(noise,gen_y,batch_size=batch_size)\n",
    "    print(evalt)\n",
    "    gan_loss.append(evalt[0])\n",
    "    gan_acc.append(evalt[1])\n",
    "    plt.figure()\n",
    "    plt.plot(gan_loss)\n",
    "    plt.figure()\n",
    "    plt.plot(gan_acc)\n",
    "    plt.show()"
   ]
  },
  {
   "cell_type": "code",
   "execution_count": null,
   "metadata": {
    "colab": {
     "base_uri": "https://localhost:8080/",
     "height": 1000
    },
    "colab_type": "code",
    "id": "nybWpbtsZ7RC",
    "outputId": "d4d8f461-0f78-44a1-e668-9a4561030e37"
   },
   "outputs": [],
   "source": [
    "plt.figure()\n",
    "plt.plot(disc_loss)\n",
    "plt.legend(['loss'])\n",
    "plt.figure()\n",
    "plt.plot(disc_acc)\n",
    "plt.legend(['acc'])\n",
    "plt.figure()\n",
    "plt.title('GAN')\n",
    "plt.plot(gan_loss)\n",
    "plt.legend(['loss'])\n",
    "plt.figure()\n",
    "plt.plot(gan_acc)\n",
    "plt.legend(['acc'])\n",
    "plt.show()"
   ]
  },
  {
   "cell_type": "markdown",
   "metadata": {},
   "source": [
    "# Score"
   ]
  },
  {
   "cell_type": "code",
   "execution_count": 0,
   "metadata": {
    "colab": {},
    "colab_type": "code",
    "id": "wRRgTdp9VhmO"
   },
   "outputs": [],
   "source": [
    "pred = discriminator.predict(inpt_arr)\n",
    "eps = 0.05\n",
    "score = np.abs(np.log(np.abs(pred-np.mean(pred))+eps))\n",
    "score = 1-np.abs(score-np.mean(score))\n",
    "plt.figure()\n",
    "plt.plot(pred2)\n",
    "plt.xlabel('Address Labels')\n",
    "plt.ylabel('Score')\n",
    "plt.show()"
   ]
  }
 ],
 "metadata": {
  "accelerator": "GPU",
  "colab": {
   "collapsed_sections": [
    "1vokYWDlk3Ng",
    "OXDVky48mhyL"
   ],
   "name": "Copy of NUS_blockchain.ipynb",
   "provenance": [],
   "toc_visible": true,
   "version": "0.3.2"
  },
  "kernelspec": {
   "display_name": "Python 3",
   "language": "python",
   "name": "python3"
  },
  "language_info": {
   "codemirror_mode": {
    "name": "ipython",
    "version": 3
   },
   "file_extension": ".py",
   "mimetype": "text/x-python",
   "name": "python",
   "nbconvert_exporter": "python",
   "pygments_lexer": "ipython3",
   "version": "3.7.0"
  }
 },
 "nbformat": 4,
 "nbformat_minor": 1
}
